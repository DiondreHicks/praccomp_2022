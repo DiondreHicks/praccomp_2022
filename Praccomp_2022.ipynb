{
  "nbformat": 4,
  "nbformat_minor": 0,
  "metadata": {
    "colab": {
      "provenance": [],
      "authorship_tag": "ABX9TyMkRg6tCstqWJLonizNt6Px",
      "include_colab_link": true
    },
    "kernelspec": {
      "name": "python3",
      "display_name": "Python 3"
    },
    "language_info": {
      "name": "python"
    }
  },
  "cells": [
    {
      "cell_type": "markdown",
      "metadata": {
        "id": "view-in-github",
        "colab_type": "text"
      },
      "source": [
        "<a href=\"https://colab.research.google.com/github/DiondreHicks/praccomp_2022/blob/master/Praccomp_2022.ipynb\" target=\"_parent\"><img src=\"https://colab.research.google.com/assets/colab-badge.svg\" alt=\"Open In Colab\"/></a>"
      ]
    },
    {
      "cell_type": "code",
      "execution_count": null,
      "metadata": {
        "colab": {
          "base_uri": "https://localhost:8080/"
        },
        "id": "LJACMYpr9A-r",
        "outputId": "d13ea7ed-d174-4054-f0f0-1ab263b0d648"
      },
      "outputs": [
        {
          "output_type": "stream",
          "name": "stdout",
          "text": [
            "Diondre is 23 years_old\n",
            "<class 'int'> <class 'str'>\n",
            "23\n"
          ]
        }
      ],
      "source": [
        "my_age=23\n",
        "given_name= \"Diondre\"\n",
        "family_name= \"Hicks\"\n",
        "print(given_name, \"is\", my_age, \"years_old\")\n",
        "type(family_name)\n",
        "type(given_name)\n",
        "print(type(my_age), type(given_name)\n",
        ")\n",
        "my_agestr=str(my_age)\n",
        "###Indexing\n",
        "len(family_name)\n",
        "len(given_name)\n",
        "print(my_age)\n",
        "my_age/4\n",
        "float(my_age)\n",
        "full_name_age= given_name + \"Keyshawn \" +family_name+\"is my full name and i am\"+ str(my_age)+ \"years old.\"\n"
      ]
    },
    {
      "cell_type": "code",
      "source": [
        "12*6"
      ],
      "metadata": {
        "colab": {
          "base_uri": "https://localhost:8080/"
        },
        "id": "59NdxUWcAUbv",
        "outputId": "f42b4ebc-bf20-41b3-d786-dc9aca5787a0"
      },
      "execution_count": null,
      "outputs": [
        {
          "output_type": "execute_result",
          "data": {
            "text/plain": [
              "72"
            ]
          },
          "metadata": {},
          "execution_count": 29
        }
      ]
    },
    {
      "cell_type": "code",
      "source": [
        "#built in summary\n",
        "nums=(1,2,3,4,5)\n",
        "max(nums)\n",
        "pi=3.1425\n",
        "print(pi)\n",
        "round(3.1425, ndigits: 2)\n"
      ],
      "metadata": {
        "colab": {
          "base_uri": "https://localhost:8080/",
          "height": 130
        },
        "id": "Rq2X2hVOE7cG",
        "outputId": "3dd96c92-a690-48e3-9cbf-bc4daea50706"
      },
      "execution_count": 3,
      "outputs": [
        {
          "output_type": "error",
          "ename": "SyntaxError",
          "evalue": "ignored",
          "traceback": [
            "\u001b[0;36m  File \u001b[0;32m\"<ipython-input-3-f2710db7a117>\"\u001b[0;36m, line \u001b[0;32m6\u001b[0m\n\u001b[0;31m    round(3.1425, ndigits: 2)\u001b[0m\n\u001b[0m                         ^\u001b[0m\n\u001b[0;31mSyntaxError\u001b[0m\u001b[0;31m:\u001b[0m invalid syntax\n"
          ]
        }
      ]
    },
    {
      "cell_type": "code",
      "source": [
        "round(2.55, ndigits=0)"
      ],
      "metadata": {
        "colab": {
          "base_uri": "https://localhost:8080/"
        },
        "id": "BXErMTPSrA9R",
        "outputId": "e73ec73d-7736-46e9-d510-8c322a7bb928"
      },
      "execution_count": 8,
      "outputs": [
        {
          "output_type": "execute_result",
          "data": {
            "text/plain": [
              "3.0"
            ]
          },
          "metadata": {},
          "execution_count": 8
        }
      ]
    },
    {
      "cell_type": "markdown",
      "source": [
        "###Libraries\n"
      ],
      "metadata": {
        "id": "9dpjfvyaq0pl"
      }
    },
    {
      "cell_type": "code",
      "source": [
        "import math"
      ],
      "metadata": {
        "id": "rJa61j6dq58g"
      },
      "execution_count": 5,
      "outputs": []
    },
    {
      "cell_type": "code",
      "source": [
        "print(math.pi)"
      ],
      "metadata": {
        "colab": {
          "base_uri": "https://localhost:8080/"
        },
        "id": "5s_z8VdVrP7R",
        "outputId": "58d157e3-7140-459e-b108-4a1825339bc3"
      },
      "execution_count": 6,
      "outputs": [
        {
          "output_type": "stream",
          "name": "stdout",
          "text": [
            "3.141592653589793\n"
          ]
        }
      ]
    },
    {
      "cell_type": "code",
      "source": [
        "import math as m\n",
        "print('pi is', m.pi)"
      ],
      "metadata": {
        "colab": {
          "base_uri": "https://localhost:8080/"
        },
        "id": "AtDHvuourV6U",
        "outputId": "6d8da987-bbbf-49d7-eb0d-1623aea980b3"
      },
      "execution_count": 9,
      "outputs": [
        {
          "output_type": "stream",
          "name": "stdout",
          "text": [
            "pi is 3.141592653589793\n"
          ]
        }
      ]
    },
    {
      "cell_type": "code",
      "source": [
        "type(m.pi)"
      ],
      "metadata": {
        "colab": {
          "base_uri": "https://localhost:8080/"
        },
        "id": "4lTi_mPMrz_e",
        "outputId": "9d9fd512-e3fb-4564-e2c6-09f41ae96ed8"
      },
      "execution_count": 10,
      "outputs": [
        {
          "output_type": "execute_result",
          "data": {
            "text/plain": [
              "float"
            ]
          },
          "metadata": {},
          "execution_count": 10
        }
      ]
    },
    {
      "cell_type": "code",
      "source": [
        "print('cosine of pi is', m.pi)"
      ],
      "metadata": {
        "colab": {
          "base_uri": "https://localhost:8080/"
        },
        "id": "ZVvH-PCcr3kO",
        "outputId": "6b3122c8-df84-4de1-ccd5-7e8e093a2c51"
      },
      "execution_count": 11,
      "outputs": [
        {
          "output_type": "stream",
          "name": "stdout",
          "text": [
            "cosine of pi is 3.141592653589793\n"
          ]
        }
      ]
    },
    {
      "cell_type": "code",
      "source": [],
      "metadata": {
        "id": "9D0y-daEsPwy"
      },
      "execution_count": 12,
      "outputs": []
    },
    {
      "cell_type": "markdown",
      "source": [
        "## Reading Tables as Data\n"
      ],
      "metadata": {
        "id": "yjvlccn6sVrH"
      }
    },
    {
      "cell_type": "code",
      "source": [
        "import pandas as pd"
      ],
      "metadata": {
        "id": "6yUz0tTbsbfG"
      },
      "execution_count": 13,
      "outputs": []
    },
    {
      "cell_type": "code",
      "source": [
        "help(pd)"
      ],
      "metadata": {
        "colab": {
          "base_uri": "https://localhost:8080/"
        },
        "id": "wDePtu_1sf3S",
        "outputId": "34490008-2e4b-40af-8444-3b76bf09c073"
      },
      "execution_count": 14,
      "outputs": [
        {
          "output_type": "stream",
          "name": "stdout",
          "text": [
            "Help on package pandas:\n",
            "\n",
            "NAME\n",
            "    pandas\n",
            "\n",
            "DESCRIPTION\n",
            "    pandas - a powerful data analysis and manipulation library for Python\n",
            "    =====================================================================\n",
            "    \n",
            "    **pandas** is a Python package providing fast, flexible, and expressive data\n",
            "    structures designed to make working with \"relational\" or \"labeled\" data both\n",
            "    easy and intuitive. It aims to be the fundamental high-level building block for\n",
            "    doing practical, **real world** data analysis in Python. Additionally, it has\n",
            "    the broader goal of becoming **the most powerful and flexible open source data\n",
            "    analysis / manipulation tool available in any language**. It is already well on\n",
            "    its way toward this goal.\n",
            "    \n",
            "    Main Features\n",
            "    -------------\n",
            "    Here are just a few of the things that pandas does well:\n",
            "    \n",
            "      - Easy handling of missing data in floating point as well as non-floating\n",
            "        point data.\n",
            "      - Size mutability: columns can be inserted and deleted from DataFrame and\n",
            "        higher dimensional objects\n",
            "      - Automatic and explicit data alignment: objects can be explicitly aligned\n",
            "        to a set of labels, or the user can simply ignore the labels and let\n",
            "        `Series`, `DataFrame`, etc. automatically align the data for you in\n",
            "        computations.\n",
            "      - Powerful, flexible group by functionality to perform split-apply-combine\n",
            "        operations on data sets, for both aggregating and transforming data.\n",
            "      - Make it easy to convert ragged, differently-indexed data in other Python\n",
            "        and NumPy data structures into DataFrame objects.\n",
            "      - Intelligent label-based slicing, fancy indexing, and subsetting of large\n",
            "        data sets.\n",
            "      - Intuitive merging and joining data sets.\n",
            "      - Flexible reshaping and pivoting of data sets.\n",
            "      - Hierarchical labeling of axes (possible to have multiple labels per tick).\n",
            "      - Robust IO tools for loading data from flat files (CSV and delimited),\n",
            "        Excel files, databases, and saving/loading data from the ultrafast HDF5\n",
            "        format.\n",
            "      - Time series-specific functionality: date range generation and frequency\n",
            "        conversion, moving window statistics, date shifting and lagging.\n",
            "\n",
            "PACKAGE CONTENTS\n",
            "    _config (package)\n",
            "    _libs (package)\n",
            "    _testing (package)\n",
            "    _typing\n",
            "    _version\n",
            "    api (package)\n",
            "    arrays (package)\n",
            "    compat (package)\n",
            "    conftest\n",
            "    core (package)\n",
            "    errors (package)\n",
            "    io (package)\n",
            "    plotting (package)\n",
            "    testing\n",
            "    tests (package)\n",
            "    tseries (package)\n",
            "    util (package)\n",
            "\n",
            "SUBMODULES\n",
            "    _hashtable\n",
            "    _lib\n",
            "    _tslib\n",
            "    offsets\n",
            "\n",
            "FUNCTIONS\n",
            "    __getattr__(name)\n",
            "        # GH 27101\n",
            "\n",
            "DATA\n",
            "    IndexSlice = <pandas.core.indexing._IndexSlice object>\n",
            "    NA = <NA>\n",
            "    NaT = NaT\n",
            "    __docformat__ = 'restructuredtext'\n",
            "    __git_version__ = '66e3805b8cabe977f40c05259cc3fcf7ead5687d'\n",
            "    describe_option = <pandas._config.config.CallableDynamicDoc object>\n",
            "    get_option = <pandas._config.config.CallableDynamicDoc object>\n",
            "    options = <pandas._config.config.DictWrapper object>\n",
            "    reset_option = <pandas._config.config.CallableDynamicDoc object>\n",
            "    set_option = <pandas._config.config.CallableDynamicDoc object>\n",
            "\n",
            "VERSION\n",
            "    1.3.5\n",
            "\n",
            "FILE\n",
            "    /usr/local/lib/python3.7/dist-packages/pandas/__init__.py\n",
            "\n",
            "\n"
          ]
        }
      ]
    },
    {
      "cell_type": "code",
      "source": [
        "data= pd.read_csv('sample_data/california_housing_test.csv')\n",
        "print(data)"
      ],
      "metadata": {
        "colab": {
          "base_uri": "https://localhost:8080/"
        },
        "id": "98QZZ6d6sujS",
        "outputId": "954c54ca-0dbd-49a8-83c9-60cd1e3f86c2"
      },
      "execution_count": 16,
      "outputs": [
        {
          "output_type": "stream",
          "name": "stdout",
          "text": [
            "      longitude  latitude  housing_median_age  total_rooms  total_bedrooms  \\\n",
            "0       -122.05     37.37                27.0       3885.0           661.0   \n",
            "1       -118.30     34.26                43.0       1510.0           310.0   \n",
            "2       -117.81     33.78                27.0       3589.0           507.0   \n",
            "3       -118.36     33.82                28.0         67.0            15.0   \n",
            "4       -119.67     36.33                19.0       1241.0           244.0   \n",
            "...         ...       ...                 ...          ...             ...   \n",
            "2995    -119.86     34.42                23.0       1450.0           642.0   \n",
            "2996    -118.14     34.06                27.0       5257.0          1082.0   \n",
            "2997    -119.70     36.30                10.0        956.0           201.0   \n",
            "2998    -117.12     34.10                40.0         96.0            14.0   \n",
            "2999    -119.63     34.42                42.0       1765.0           263.0   \n",
            "\n",
            "      population  households  median_income  median_house_value  \n",
            "0         1537.0       606.0         6.6085            344700.0  \n",
            "1          809.0       277.0         3.5990            176500.0  \n",
            "2         1484.0       495.0         5.7934            270500.0  \n",
            "3           49.0        11.0         6.1359            330000.0  \n",
            "4          850.0       237.0         2.9375             81700.0  \n",
            "...          ...         ...            ...                 ...  \n",
            "2995      1258.0       607.0         1.1790            225000.0  \n",
            "2996      3496.0      1036.0         3.3906            237200.0  \n",
            "2997       693.0       220.0         2.2895             62000.0  \n",
            "2998        46.0        14.0         3.2708            162500.0  \n",
            "2999       753.0       260.0         8.5608            500001.0  \n",
            "\n",
            "[3000 rows x 9 columns]\n"
          ]
        }
      ]
    },
    {
      "cell_type": "code",
      "source": [
        "data= pd.read_csv('sample_data/california_housing_test.csv', index_col='median_income')\n",
        "print(data)"
      ],
      "metadata": {
        "colab": {
          "base_uri": "https://localhost:8080/"
        },
        "id": "3-t-tBTos8Ri",
        "outputId": "96f1654a-81e0-4e40-a73a-789b7f39c7a9"
      },
      "execution_count": 18,
      "outputs": [
        {
          "output_type": "stream",
          "name": "stdout",
          "text": [
            "               longitude  latitude  housing_median_age  total_rooms  \\\n",
            "median_income                                                         \n",
            "6.6085           -122.05     37.37                27.0       3885.0   \n",
            "3.5990           -118.30     34.26                43.0       1510.0   \n",
            "5.7934           -117.81     33.78                27.0       3589.0   \n",
            "6.1359           -118.36     33.82                28.0         67.0   \n",
            "2.9375           -119.67     36.33                19.0       1241.0   \n",
            "...                  ...       ...                 ...          ...   \n",
            "1.1790           -119.86     34.42                23.0       1450.0   \n",
            "3.3906           -118.14     34.06                27.0       5257.0   \n",
            "2.2895           -119.70     36.30                10.0        956.0   \n",
            "3.2708           -117.12     34.10                40.0         96.0   \n",
            "8.5608           -119.63     34.42                42.0       1765.0   \n",
            "\n",
            "               total_bedrooms  population  households  median_house_value  \n",
            "median_income                                                              \n",
            "6.6085                  661.0      1537.0       606.0            344700.0  \n",
            "3.5990                  310.0       809.0       277.0            176500.0  \n",
            "5.7934                  507.0      1484.0       495.0            270500.0  \n",
            "6.1359                   15.0        49.0        11.0            330000.0  \n",
            "2.9375                  244.0       850.0       237.0             81700.0  \n",
            "...                       ...         ...         ...                 ...  \n",
            "1.1790                  642.0      1258.0       607.0            225000.0  \n",
            "3.3906                 1082.0      3496.0      1036.0            237200.0  \n",
            "2.2895                  201.0       693.0       220.0             62000.0  \n",
            "3.2708                   14.0        46.0        14.0            162500.0  \n",
            "8.5608                  263.0       753.0       260.0            500001.0  \n",
            "\n",
            "[3000 rows x 8 columns]\n"
          ]
        }
      ]
    },
    {
      "cell_type": "code",
      "source": [
        "type(data)"
      ],
      "metadata": {
        "colab": {
          "base_uri": "https://localhost:8080/"
        },
        "id": "NhwC5n8ktc2o",
        "outputId": "0a1e1e9f-8cce-4509-b207-b5e237d9157d"
      },
      "execution_count": 19,
      "outputs": [
        {
          "output_type": "execute_result",
          "data": {
            "text/plain": [
              "pandas.core.frame.DataFrame"
            ]
          },
          "metadata": {},
          "execution_count": 19
        }
      ]
    },
    {
      "cell_type": "code",
      "source": [
        "data.info()"
      ],
      "metadata": {
        "colab": {
          "base_uri": "https://localhost:8080/"
        },
        "id": "KC_uMwu_th0D",
        "outputId": "e86067be-a5ab-4946-ef4b-7a0c33c1bde8"
      },
      "execution_count": 20,
      "outputs": [
        {
          "output_type": "stream",
          "name": "stdout",
          "text": [
            "<class 'pandas.core.frame.DataFrame'>\n",
            "Float64Index: 3000 entries, 6.6085 to 8.5608\n",
            "Data columns (total 8 columns):\n",
            " #   Column              Non-Null Count  Dtype  \n",
            "---  ------              --------------  -----  \n",
            " 0   longitude           3000 non-null   float64\n",
            " 1   latitude            3000 non-null   float64\n",
            " 2   housing_median_age  3000 non-null   float64\n",
            " 3   total_rooms         3000 non-null   float64\n",
            " 4   total_bedrooms      3000 non-null   float64\n",
            " 5   population          3000 non-null   float64\n",
            " 6   households          3000 non-null   float64\n",
            " 7   median_house_value  3000 non-null   float64\n",
            "dtypes: float64(8)\n",
            "memory usage: 210.9 KB\n"
          ]
        }
      ]
    },
    {
      "cell_type": "code",
      "source": [
        "print(data.columns)"
      ],
      "metadata": {
        "colab": {
          "base_uri": "https://localhost:8080/"
        },
        "id": "qQFCPZQnuAa9",
        "outputId": "f120d514-17a5-413c-d385-0bd6191a6176"
      },
      "execution_count": 21,
      "outputs": [
        {
          "output_type": "stream",
          "name": "stdout",
          "text": [
            "Index(['longitude', 'latitude', 'housing_median_age', 'total_rooms',\n",
            "       'total_bedrooms', 'population', 'households', 'median_house_value'],\n",
            "      dtype='object')\n"
          ]
        }
      ]
    },
    {
      "cell_type": "code",
      "source": [
        "print(data.T)"
      ],
      "metadata": {
        "colab": {
          "base_uri": "https://localhost:8080/"
        },
        "id": "nkMWV7IZuE1X",
        "outputId": "ade32eb9-84f1-439b-e781-a643907adf46"
      },
      "execution_count": 22,
      "outputs": [
        {
          "output_type": "stream",
          "name": "stdout",
          "text": [
            "median_income          6.6085     3.5990     5.7934     6.1359    2.9375  \\\n",
            "longitude             -122.05    -118.30    -117.81    -118.36   -119.67   \n",
            "latitude                37.37      34.26      33.78      33.82     36.33   \n",
            "housing_median_age      27.00      43.00      27.00      28.00     19.00   \n",
            "total_rooms           3885.00    1510.00    3589.00      67.00   1241.00   \n",
            "total_bedrooms         661.00     310.00     507.00      15.00    244.00   \n",
            "population            1537.00     809.00    1484.00      49.00    850.00   \n",
            "households             606.00     277.00     495.00      11.00    237.00   \n",
            "median_house_value  344700.00  176500.00  270500.00  330000.00  81700.00   \n",
            "\n",
            "median_income         1.6635    1.6641     3.2250     3.6696     2.3333  ...  \\\n",
            "longitude            -119.56   -121.43    -120.65    -122.84    -118.02  ...   \n",
            "latitude               36.51     38.63      35.48      38.40      34.08  ...   \n",
            "housing_median_age     37.00     43.00      19.00      15.00      31.00  ...   \n",
            "total_rooms          1018.00   1009.00    2310.00    3080.00    2402.00  ...   \n",
            "total_bedrooms        213.00    225.00     471.00     617.00     632.00  ...   \n",
            "population            663.00    604.00    1341.00    1446.00    2830.00  ...   \n",
            "households            204.00    218.00     441.00     599.00     603.00  ...   \n",
            "median_house_value  67000.00  67000.00  166900.00  194400.00  164200.00  ...   \n",
            "\n",
            "median_income          2.6923     7.1997     6.2263     5.1048     5.5867  \\\n",
            "longitude             -118.23    -117.17    -122.33    -117.91    -117.93   \n",
            "latitude                34.09      34.28      37.39      33.60      33.86   \n",
            "housing_median_age      49.00      13.00      52.00      37.00      35.00   \n",
            "total_rooms           1638.00    4867.00     573.00    2088.00     931.00   \n",
            "total_bedrooms         456.00     718.00     102.00     510.00     181.00   \n",
            "population            1500.00     780.00     232.00     673.00     516.00   \n",
            "households             430.00     250.00      92.00     390.00     174.00   \n",
            "median_house_value  150000.00  253800.00  500001.00  500001.00  182500.00   \n",
            "\n",
            "median_income          1.1790     3.3906   2.2895     3.2708     8.5608  \n",
            "longitude             -119.86    -118.14   -119.7    -117.12    -119.63  \n",
            "latitude                34.42      34.06     36.3      34.10      34.42  \n",
            "housing_median_age      23.00      27.00     10.0      40.00      42.00  \n",
            "total_rooms           1450.00    5257.00    956.0      96.00    1765.00  \n",
            "total_bedrooms         642.00    1082.00    201.0      14.00     263.00  \n",
            "population            1258.00    3496.00    693.0      46.00     753.00  \n",
            "households             607.00    1036.00    220.0      14.00     260.00  \n",
            "median_house_value  225000.00  237200.00  62000.0  162500.00  500001.00  \n",
            "\n",
            "[8 rows x 3000 columns]\n"
          ]
        }
      ]
    },
    {
      "cell_type": "code",
      "source": [
        "print(data.describe())"
      ],
      "metadata": {
        "colab": {
          "base_uri": "https://localhost:8080/"
        },
        "id": "BC60O8xIuhhk",
        "outputId": "c62d6aca-a273-414d-a2dd-1669e4a1da99"
      },
      "execution_count": 23,
      "outputs": [
        {
          "output_type": "stream",
          "name": "stdout",
          "text": [
            "         longitude    latitude  housing_median_age   total_rooms  \\\n",
            "count  3000.000000  3000.00000         3000.000000   3000.000000   \n",
            "mean   -119.589200    35.63539           28.845333   2599.578667   \n",
            "std       1.994936     2.12967           12.555396   2155.593332   \n",
            "min    -124.180000    32.56000            1.000000      6.000000   \n",
            "25%    -121.810000    33.93000           18.000000   1401.000000   \n",
            "50%    -118.485000    34.27000           29.000000   2106.000000   \n",
            "75%    -118.020000    37.69000           37.000000   3129.000000   \n",
            "max    -114.490000    41.92000           52.000000  30450.000000   \n",
            "\n",
            "       total_bedrooms    population  households  median_house_value  \n",
            "count     3000.000000   3000.000000  3000.00000          3000.00000  \n",
            "mean       529.950667   1402.798667   489.91200        205846.27500  \n",
            "std        415.654368   1030.543012   365.42271        113119.68747  \n",
            "min          2.000000      5.000000     2.00000         22500.00000  \n",
            "25%        291.000000    780.000000   273.00000        121200.00000  \n",
            "50%        437.000000   1155.000000   409.50000        177650.00000  \n",
            "75%        636.000000   1742.750000   597.25000        263975.00000  \n",
            "max       5419.000000  11935.000000  4930.00000        500001.00000  \n"
          ]
        }
      ]
    },
    {
      "cell_type": "code",
      "source": [
        "print(data.T.describe())"
      ],
      "metadata": {
        "colab": {
          "base_uri": "https://localhost:8080/"
        },
        "id": "dc10Wo3RvPfl",
        "outputId": "d407192f-f05a-4a17-a348-7bb7bc7e9b02"
      },
      "execution_count": 25,
      "outputs": [
        {
          "output_type": "stream",
          "name": "stdout",
          "text": [
            "median_income         6.6085         3.5990         5.7934         6.1359  \\\n",
            "count               8.000000       8.000000       8.000000       8.000000   \n",
            "mean            43916.415000   22420.620000   34564.746250   41260.682500   \n",
            "std            121541.970835   62259.710451   95340.051195  116668.316062   \n",
            "min              -122.050000    -118.300000    -117.810000    -118.360000   \n",
            "25%                34.777500      40.815000      32.085000      14.000000   \n",
            "50%               633.500000     293.500000     501.000000      30.910000   \n",
            "75%              2124.000000     984.250000    2010.250000      53.500000   \n",
            "max            344700.000000  176500.000000  270500.000000  330000.000000   \n",
            "\n",
            "median_income        2.9375        1.6635        1.6641         3.2250  \\\n",
            "count              8.000000      8.000000      8.000000       8.000000   \n",
            "mean           10525.957500   8631.493750   8627.025000   21424.603750   \n",
            "std            28762.371344  23587.400994  23589.024838   58786.621064   \n",
            "min             -119.670000   -119.560000   -121.430000    -120.650000   \n",
            "25%               31.997500     36.877500     41.907500      31.360000   \n",
            "50%              240.500000    208.500000    221.500000     456.000000   \n",
            "75%              947.750000    751.750000    705.250000    1583.250000   \n",
            "max            81700.000000  67000.000000  67000.000000  166900.000000   \n",
            "\n",
            "median_income         3.6696         2.3333  ...       2.6923         7.1997  \\\n",
            "count               8.000000       8.000000  ...       8.0000       8.000000   \n",
            "mean            25009.070000   21326.757500  ...   19248.6075   32543.138750   \n",
            "std             68452.345193   57740.247048  ...   52835.6918   89416.267414   \n",
            "min              -122.840000    -118.020000  ...    -118.2300    -117.170000   \n",
            "25%                32.550000      33.310000  ...      45.2725      28.960000   \n",
            "50%               608.000000     617.500000  ...     443.0000     484.000000   \n",
            "75%              1854.500000    2509.000000  ...    1534.5000    1801.750000   \n",
            "max            194400.000000  164200.000000  ...  150000.0000  253800.000000   \n",
            "\n",
            "median_income         6.2263         5.1048         5.5867         1.1790  \\\n",
            "count               8.000000       8.000000       8.000000       8.000000   \n",
            "mean            62620.882500   62951.836250   23031.616250   28611.820000   \n",
            "std            176728.371353  176595.895348   64435.814749   79354.891655   \n",
            "min              -122.330000    -117.910000    -117.930000    -119.860000   \n",
            "25%                48.347500      36.150000      34.715000      31.565000   \n",
            "50%                97.000000     450.000000     177.500000     624.500000   \n",
            "75%               317.250000    1026.750000     619.750000    1306.000000   \n",
            "max            500001.000000  500001.000000  182500.000000  225000.000000   \n",
            "\n",
            "median_income         3.3906        2.2895         3.2708         8.5608  \n",
            "count               8.000000      8.000000       8.000000       8.000000  \n",
            "mean            31001.740000   7999.575000   20328.372500   62874.848750  \n",
            "std             83338.462109  21822.508466   57446.044718  176626.669812  \n",
            "min              -118.140000   -119.700000    -117.120000    -119.630000  \n",
            "25%                32.295000     29.725000      14.000000      40.105000  \n",
            "50%              1059.000000    210.500000      37.050000     261.500000  \n",
            "75%              3936.250000    758.750000      58.500000    1006.000000  \n",
            "max            237200.000000  62000.000000  162500.000000  500001.000000  \n",
            "\n",
            "[8 rows x 3000 columns]\n"
          ]
        }
      ]
    },
    {
      "cell_type": "code",
      "source": [
        "data.T.to_csv('sample_data/california_housing_test_TRANSPOSED.csv')"
      ],
      "metadata": {
        "id": "JIJHpgp2uner"
      },
      "execution_count": 26,
      "outputs": []
    },
    {
      "cell_type": "markdown",
      "source": [
        "### Plotting Data"
      ],
      "metadata": {
        "id": "77a0lterv8ma"
      }
    },
    {
      "cell_type": "code",
      "source": [
        "\n",
        "%matplotlib inline\n",
        "import matplotlib.pyplot as plt\n"
      ],
      "metadata": {
        "id": "xXILoQ6owFlI"
      },
      "execution_count": 28,
      "outputs": []
    },
    {
      "cell_type": "code",
      "source": [
        "time =(0,1,2,3,4,5)\n",
        "response = (20,25,40,80,65,47)"
      ],
      "metadata": {
        "id": "677hKVvMwhxH"
      },
      "execution_count": 29,
      "outputs": []
    },
    {
      "cell_type": "code",
      "source": [
        "print(time, response)"
      ],
      "metadata": {
        "colab": {
          "base_uri": "https://localhost:8080/"
        },
        "id": "ph0bAW8IwuFE",
        "outputId": "cc793e3b-9510-465a-c128-c55fbb8a8cd1"
      },
      "execution_count": 30,
      "outputs": [
        {
          "output_type": "stream",
          "name": "stdout",
          "text": [
            "(0, 1, 2, 3, 4, 5) (20, 25, 40, 80, 65, 47)\n"
          ]
        }
      ]
    },
    {
      "cell_type": "code",
      "source": [
        "plt.plot(time,response)\n",
        "plt.xlabel('Time(hours)')\n",
        "plt.ylabel('Response(cm)')"
      ],
      "metadata": {
        "colab": {
          "base_uri": "https://localhost:8080/",
          "height": 296
        },
        "id": "wNnsa0gqwyEA",
        "outputId": "df5281ee-8a64-4331-c0ad-a827fe10271c"
      },
      "execution_count": 32,
      "outputs": [
        {
          "output_type": "execute_result",
          "data": {
            "text/plain": [
              "Text(0, 0.5, 'Response(cm)')"
            ]
          },
          "metadata": {},
          "execution_count": 32
        },
        {
          "output_type": "display_data",
          "data": {
            "text/plain": [
              "<Figure size 432x288 with 1 Axes>"
            ],
            "image/png": "[encoded data removed]"
          },
          "metadata": {
            "needs_background": "light"
          }
        }
      ]
    },
    {
      "cell_type": "code",
      "source": [
        "!curl -L -o PracCompPyData.zip http://bit.ly/PracCompPyData"
      ],
      "metadata": {
        "colab": {
          "base_uri": "https://localhost:8080/"
        },
        "id": "S09vKgJvxIv-",
        "outputId": "e0a2b73f-85e3-4e3b-f93e-e46348fff6fa"
      },
      "execution_count": 33,
      "outputs": [
        {
          "output_type": "stream",
          "name": "stdout",
          "text": [
            "  % Total    % Received % Xferd  Average Speed   Time    Time     Time  Current\n",
            "                                 Dload  Upload   Total   Spent    Left  Speed\n",
            "100   137  100   137    0     0   1151      0 --:--:-- --:--:-- --:--:--  1151\n",
            "100   116    0   116    0     0    267      0 --:--:-- --:--:-- --:--:--   267\n",
            "100   340  100   340    0     0    418      0 --:--:-- --:--:-- --:--:--     0\n",
            "100   534    0   534    0     0    517      0 --:--:--  0:00:01 --:--:--   517\n",
            "100 38179  100 38179    0     0  32056      0  0:00:01  0:00:01 --:--:-- 32056\n"
          ]
        }
      ]
    },
    {
      "cell_type": "code",
      "source": [
        "!unzip PracCompPyData.zip"
      ],
      "metadata": {
        "colab": {
          "base_uri": "https://localhost:8080/"
        },
        "id": "njtbgyMRw25i",
        "outputId": "ae8b68de-c290-4bad-85ff-480f567fdb1b"
      },
      "execution_count": 34,
      "outputs": [
        {
          "output_type": "stream",
          "name": "stdout",
          "text": [
            "Archive:  PracCompPyData.zip\n",
            "  inflating: data/gapminder_all.csv  \n",
            "  inflating: data/gapminder_gdp_africa.csv  \n",
            "  inflating: data/gapminder_gdp_americas.csv  \n",
            "  inflating: data/gapminder_gdp_asia.csv  \n",
            "  inflating: data/gapminder_gdp_europe.csv  \n",
            "  inflating: data/gapminder_gdp_oceania.csv  \n"
          ]
        }
      ]
    },
    {
      "cell_type": "code",
      "source": [
        "data = pd.read_csv('data/gapminder_gdp_oceania.csv', index_col='country')"
      ],
      "metadata": {
        "id": "2WcFkLB0xnOI"
      },
      "execution_count": 35,
      "outputs": []
    },
    {
      "cell_type": "code",
      "source": [
        "print(data)"
      ],
      "metadata": {
        "colab": {
          "base_uri": "https://localhost:8080/"
        },
        "id": "C8y94PoYx4F1",
        "outputId": "888e51ef-39ca-45d3-b451-258108f04ca2"
      },
      "execution_count": 36,
      "outputs": [
        {
          "output_type": "stream",
          "name": "stdout",
          "text": [
            "             gdpPercap_1952  gdpPercap_1957  gdpPercap_1962  gdpPercap_1967  \\\n",
            "country                                                                       \n",
            "Australia       10039.59564     10949.64959     12217.22686     14526.12465   \n",
            "New Zealand     10556.57566     12247.39532     13175.67800     14463.91893   \n",
            "\n",
            "             gdpPercap_1972  gdpPercap_1977  gdpPercap_1982  gdpPercap_1987  \\\n",
            "country                                                                       \n",
            "Australia       16788.62948     18334.19751     19477.00928     21888.88903   \n",
            "New Zealand     16046.03728     16233.71770     17632.41040     19007.19129   \n",
            "\n",
            "             gdpPercap_1992  gdpPercap_1997  gdpPercap_2002  gdpPercap_2007  \n",
            "country                                                                      \n",
            "Australia       23424.76683     26997.93657     30687.75473     34435.36744  \n",
            "New Zealand     18363.32494     21050.41377     23189.80135     25185.00911  \n"
          ]
        }
      ]
    },
    {
      "cell_type": "code",
      "source": [
        "years = data.columns.str.strip('_gdpPercap_')"
      ],
      "metadata": {
        "id": "JqelCCV3yDyI"
      },
      "execution_count": 69,
      "outputs": []
    },
    {
      "cell_type": "code",
      "source": [
        "type(years)"
      ],
      "metadata": {
        "colab": {
          "base_uri": "https://localhost:8080/"
        },
        "id": "HKLzydJxyZTB",
        "outputId": "63f456ec-481b-4ed4-e659-5704de3d61f3"
      },
      "execution_count": 70,
      "outputs": [
        {
          "output_type": "execute_result",
          "data": {
            "text/plain": [
              "pandas.core.indexes.base.Index"
            ]
          },
          "metadata": {},
          "execution_count": 70
        }
      ]
    },
    {
      "cell_type": "code",
      "source": [
        "print(data.T)"
      ],
      "metadata": {
        "colab": {
          "base_uri": "https://localhost:8080/"
        },
        "id": "8skRRVLsy0bA",
        "outputId": "d7db1f0a-4424-44ee-fb1b-e36b50ed0b6b"
      },
      "execution_count": 43,
      "outputs": [
        {
          "output_type": "stream",
          "name": "stdout",
          "text": [
            "country           Australia  New Zealand\n",
            "gdpPercap_1952  10039.59564  10556.57566\n",
            "gdpPercap_1957  10949.64959  12247.39532\n",
            "gdpPercap_1962  12217.22686  13175.67800\n",
            "gdpPercap_1967  14526.12465  14463.91893\n",
            "gdpPercap_1972  16788.62948  16046.03728\n",
            "gdpPercap_1977  18334.19751  16233.71770\n",
            "gdpPercap_1982  19477.00928  17632.41040\n",
            "gdpPercap_1987  21888.88903  19007.19129\n",
            "gdpPercap_1992  23424.76683  18363.32494\n",
            "gdpPercap_1997  26997.93657  21050.41377\n",
            "gdpPercap_2002  30687.75473  23189.80135\n",
            "gdpPercap_2007  34435.36744  25185.00911\n"
          ]
        }
      ]
    },
    {
      "cell_type": "code",
      "source": [
        "print(data.describe)"
      ],
      "metadata": {
        "colab": {
          "base_uri": "https://localhost:8080/"
        },
        "id": "U8O00LE8y3wF",
        "outputId": "1dc3fc4e-f380-4105-a770-67c7a839476e"
      },
      "execution_count": 71,
      "outputs": [
        {
          "output_type": "stream",
          "name": "stdout",
          "text": [
            "<bound method NDFrame.describe of              gdpPercap_1952  gdpPercap_1957  gdpPercap_1962  gdpPercap_1967  \\\n",
            "country                                                                       \n",
            "Australia       10039.59564     10949.64959     12217.22686     14526.12465   \n",
            "New Zealand     10556.57566     12247.39532     13175.67800     14463.91893   \n",
            "\n",
            "             gdpPercap_1972  gdpPercap_1977  gdpPercap_1982  gdpPercap_1987  \\\n",
            "country                                                                       \n",
            "Australia       16788.62948     18334.19751     19477.00928     21888.88903   \n",
            "New Zealand     16046.03728     16233.71770     17632.41040     19007.19129   \n",
            "\n",
            "             gdpPercap_1992  gdpPercap_1997  gdpPercap_2002  gdpPercap_2007  \n",
            "country                                                                      \n",
            "Australia       23424.76683     26997.93657     30687.75473     34435.36744  \n",
            "New Zealand     18363.32494     21050.41377     23189.80135     25185.00911  >\n"
          ]
        }
      ]
    },
    {
      "cell_type": "code",
      "source": [
        "data.columnms = years.astype(int)"
      ],
      "metadata": {
        "id": "aZNhcKulzCEW"
      },
      "execution_count": 60,
      "outputs": []
    },
    {
      "cell_type": "code",
      "source": [
        "print(data.columns)"
      ],
      "metadata": {
        "colab": {
          "base_uri": "https://localhost:8080/"
        },
        "id": "-_w2oDvUzJFf",
        "outputId": "5c13e273-ec94-42f8-ac96-a88dfb5d0bf5"
      },
      "execution_count": 72,
      "outputs": [
        {
          "output_type": "stream",
          "name": "stdout",
          "text": [
            "Index(['gdpPercap_1952', 'gdpPercap_1957', 'gdpPercap_1962', 'gdpPercap_1967',\n",
            "       'gdpPercap_1972', 'gdpPercap_1977', 'gdpPercap_1982', 'gdpPercap_1987',\n",
            "       'gdpPercap_1992', 'gdpPercap_1997', 'gdpPercap_2002', 'gdpPercap_2007'],\n",
            "      dtype='object')\n"
          ]
        }
      ]
    },
    {
      "cell_type": "code",
      "source": [
        "data.plot()"
      ],
      "metadata": {
        "colab": {
          "base_uri": "https://localhost:8080/",
          "height": 296
        },
        "id": "Y5iEBE5qzQTC",
        "outputId": "ea080b79-2e0a-4702-f42e-c4e2ae69a4b6"
      },
      "execution_count": 73,
      "outputs": [
        {
          "output_type": "execute_result",
          "data": {
            "text/plain": [
              "<matplotlib.axes._subplots.AxesSubplot at 0x7fe2fabf92d0>"
            ]
          },
          "metadata": {},
          "execution_count": 73
        },
        {
          "output_type": "display_data",
          "data": {
            "text/plain": [
              "<Figure size 432x288 with 1 Axes>"
            ],
            "image/png": "[encoded data removed]"
          },
          "metadata": {
            "needs_background": "light"
          }
        }
      ]
    },
    {
      "cell_type": "code",
      "source": [
        "data.loc['Australia'].plot()"
      ],
      "metadata": {
        "colab": {
          "base_uri": "https://localhost:8080/",
          "height": 283
        },
        "id": "3JX0st-TzY3R",
        "outputId": "98d69ea0-051c-4a65-fc79-c9eddc686866"
      },
      "execution_count": 74,
      "outputs": [
        {
          "output_type": "execute_result",
          "data": {
            "text/plain": [
              "<matplotlib.axes._subplots.AxesSubplot at 0x7fe2faac2d50>"
            ]
          },
          "metadata": {},
          "execution_count": 74
        },
        {
          "output_type": "display_data",
          "data": {
            "text/plain": [
              "<Figure size 432x288 with 1 Axes>"
            ],
            "image/png": "[encoded data removed]"
          },
          "metadata": {
            "needs_background": "light"
          }
        }
      ]
    },
    {
      "cell_type": "code",
      "source": [
        "plt.style.use('ggplot')\n",
        "data.T.plot(kind='bar')\n",
        "plt.ylabel('GDP/capita')\n",
        "plt.xlabel('Year')"
      ],
      "metadata": {
        "colab": {
          "base_uri": "https://localhost:8080/",
          "height": 372
        },
        "id": "PUXSX7Ld1GNV",
        "outputId": "30b52c8b-1a13-4cf0-e0ba-1ece1b8cf2d1"
      },
      "execution_count": 77,
      "outputs": [
        {
          "output_type": "execute_result",
          "data": {
            "text/plain": [
              "Text(0.5, 0, 'Year')"
            ]
          },
          "metadata": {},
          "execution_count": 77
        },
        {
          "output_type": "display_data",
          "data": {
            "text/plain": [
              "<Figure size 432x288 with 1 Axes>"
            ],
            "image/png": "[encoded data removed]"
          },
          "metadata": {}
        }
      ]
    },
    {
      "cell_type": "code",
      "source": [
        "data.T.plot()\n",
        "plt.ylabel('GDP/capita')\n",
        "plt.xlabel('Year')"
      ],
      "metadata": {
        "colab": {
          "base_uri": "https://localhost:8080/",
          "height": 297
        },
        "id": "W-e-XdPG0l98",
        "outputId": "17f2a6bd-dea7-4775-afe0-c98d52f00b2a"
      },
      "execution_count": 68,
      "outputs": [
        {
          "output_type": "execute_result",
          "data": {
            "text/plain": [
              "Text(0.5, 0, 'Year')"
            ]
          },
          "metadata": {},
          "execution_count": 68
        },
        {
          "output_type": "display_data",
          "data": {
            "text/plain": [
              "<Figure size 432x288 with 1 Axes>"
            ],
            "image/png": "[encoded data removed]"
          },
          "metadata": {
            "needs_background": "light"
          }
        }
      ]
    },
    {
      "cell_type": "code",
      "source": [
        "plt.plot(time,response, 'g--')"
      ],
      "metadata": {
        "colab": {
          "base_uri": "https://localhost:8080/",
          "height": 282
        },
        "id": "yxAzJzoy1mr_",
        "outputId": "345dfe79-2d4b-41d2-cf5d-9b7cbce410ea"
      },
      "execution_count": 78,
      "outputs": [
        {
          "output_type": "execute_result",
          "data": {
            "text/plain": [
              "[<matplotlib.lines.Line2D at 0x7fe2fa8d1b90>]"
            ]
          },
          "metadata": {},
          "execution_count": 78
        },
        {
          "output_type": "display_data",
          "data": {
            "text/plain": [
              "<Figure size 432x288 with 1 Axes>"
            ],
            "image/png": "[encoded data removed]"
          },
          "metadata": {}
        }
      ]
    },
    {
      "cell_type": "code",
      "source": [
        "plt.plot(time,response, 'bo')"
      ],
      "metadata": {
        "colab": {
          "base_uri": "https://localhost:8080/",
          "height": 282
        },
        "id": "S8yrsfMV1uEN",
        "outputId": "093a2178-2685-41c7-9929-9157154dd009"
      },
      "execution_count": 79,
      "outputs": [
        {
          "output_type": "execute_result",
          "data": {
            "text/plain": [
              "[<matplotlib.lines.Line2D at 0x7fe2fa85e210>]"
            ]
          },
          "metadata": {},
          "execution_count": 79
        },
        {
          "output_type": "display_data",
          "data": {
            "text/plain": [
              "<Figure size 432x288 with 1 Axes>"
            ],
            "image/png": "[encoded data removed]"
          },
          "metadata": {}
        }
      ]
    },
    {
      "cell_type": "code",
      "source": [
        "gdp_australia = data.loc['Australia']\n",
        "gdp_nz =data.loc['New Zealand']\n",
        "plt.plot(years,gdp_australia, 'g--', label='Australia')\n",
        "plt.plot(years,gdp_nz, 'o-', label='New Zealand')\n",
        "\n",
        "plt.xlabel('Year')\n",
        "plt.ylabel('GDP/capita')\n",
        "plt.legend(loc='lower right')\n",
        "plt.style('tableu-colorblind10')"
      ],
      "metadata": {
        "colab": {
          "base_uri": "https://localhost:8080/",
          "height": 632
        },
        "id": "aDK6BUo72TmY",
        "outputId": "00c3fc58-46e3-46e5-c76b-c162065b4daa"
      },
      "execution_count": 91,
      "outputs": [
        {
          "output_type": "error",
          "ename": "TypeError",
          "evalue": "ignored",
          "traceback": [
            "\u001b[0;31m---------------------------------------------------------------------------\u001b[0m",
            "\u001b[0;31mTypeError\u001b[0m                                 Traceback (most recent call last)",
            "\u001b[0;32m<ipython-input-91-bef92a5a69c8>\u001b[0m in \u001b[0;36m<module>\u001b[0;34m\u001b[0m\n\u001b[1;32m      7\u001b[0m \u001b[0mplt\u001b[0m\u001b[0;34m.\u001b[0m\u001b[0mylabel\u001b[0m\u001b[0;34m(\u001b[0m\u001b[0;34m'GDP/capita'\u001b[0m\u001b[0;34m)\u001b[0m\u001b[0;34m\u001b[0m\u001b[0;34m\u001b[0m\u001b[0m\n\u001b[1;32m      8\u001b[0m \u001b[0mplt\u001b[0m\u001b[0;34m.\u001b[0m\u001b[0mlegend\u001b[0m\u001b[0;34m(\u001b[0m\u001b[0mloc\u001b[0m\u001b[0;34m=\u001b[0m\u001b[0;34m'lower right'\u001b[0m\u001b[0;34m)\u001b[0m\u001b[0;34m\u001b[0m\u001b[0;34m\u001b[0m\u001b[0m\n\u001b[0;32m----> 9\u001b[0;31m \u001b[0mplt\u001b[0m\u001b[0;34m.\u001b[0m\u001b[0mstyle\u001b[0m\u001b[0;34m(\u001b[0m\u001b[0;34m'tableu-colorblind10'\u001b[0m\u001b[0;34m)\u001b[0m\u001b[0;34m\u001b[0m\u001b[0;34m\u001b[0m\u001b[0m\n\u001b[0m",
            "\u001b[0;31mTypeError\u001b[0m: 'module' object is not callable"
          ]
        },
        {
          "output_type": "display_data",
          "data": {
            "text/plain": [
              "<Figure size 640x480 with 1 Axes>"
            ],
            "image/png": "[encoded data removed]"
          },
          "metadata": {}
        }
      ]
    },
    {
      "cell_type": "code",
      "source": [
        "plt.scatter(gdp_australia,gdp_nz)"
      ],
      "metadata": {
        "colab": {
          "base_uri": "https://localhost:8080/",
          "height": 282
        },
        "id": "_qwGm1pD3PlS",
        "outputId": "8c8019c3-1bb4-4829-9732-5eefa7c51129"
      },
      "execution_count": 84,
      "outputs": [
        {
          "output_type": "execute_result",
          "data": {
            "text/plain": [
              "<matplotlib.collections.PathCollection at 0x7fe2fab15c50>"
            ]
          },
          "metadata": {},
          "execution_count": 84
        },
        {
          "output_type": "display_data",
          "data": {
            "text/plain": [
              "<Figure size 432x288 with 1 Axes>"
            ],
            "image/png": "[encoded data removed]"
          },
          "metadata": {}
        }
      ]
    },
    {
      "cell_type": "code",
      "source": [
        "plt.style.use('default')"
      ],
      "metadata": {
        "id": "2tH0KTCT35lp"
      },
      "execution_count": 92,
      "outputs": []
    },
    {
      "cell_type": "code",
      "source": [
        "print(plt.style.available)"
      ],
      "metadata": {
        "colab": {
          "base_uri": "https://localhost:8080/"
        },
        "id": "vhyEfmy24Y6s",
        "outputId": "5f2e79fc-e17a-4146-c664-a5f2f257d21d"
      },
      "execution_count": 90,
      "outputs": [
        {
          "output_type": "stream",
          "name": "stdout",
          "text": [
            "['Solarize_Light2', '_classic_test_patch', 'bmh', 'classic', 'dark_background', 'fast', 'fivethirtyeight', 'ggplot', 'grayscale', 'seaborn', 'seaborn-bright', 'seaborn-colorblind', 'seaborn-dark', 'seaborn-dark-palette', 'seaborn-darkgrid', 'seaborn-deep', 'seaborn-muted', 'seaborn-notebook', 'seaborn-paper', 'seaborn-pastel', 'seaborn-poster', 'seaborn-talk', 'seaborn-ticks', 'seaborn-white', 'seaborn-whitegrid', 'tableau-colorblind10']\n"
          ]
        }
      ]
    }
  ]
}