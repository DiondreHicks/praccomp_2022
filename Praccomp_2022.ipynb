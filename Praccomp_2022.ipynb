{
  "nbformat": 4,
  "nbformat_minor": 0,
  "metadata": {
    "colab": {
      "provenance": [],
      "authorship_tag": "ABX9TyOhGehwZy+/JoScthGtWcfH",
      "include_colab_link": true
    },
    "kernelspec": {
      "name": "python3",
      "display_name": "Python 3"
    },
    "language_info": {
      "name": "python"
    }
  },
  "cells": [
    {
      "cell_type": "markdown",
      "metadata": {
        "id": "view-in-github",
        "colab_type": "text"
      },
      "source": [
        "<a href=\"https://colab.research.google.com/github/DiondreHicks/praccomp_2022/blob/master/Praccomp_2022.ipynb\" target=\"_parent\"><img src=\"https://colab.research.google.com/assets/colab-badge.svg\" alt=\"Open In Colab\"/></a>"
      ]
    },
    {
      "cell_type": "code",
      "execution_count": null,
      "metadata": {
        "colab": {
          "base_uri": "https://localhost:8080/"
        },
        "id": "LJACMYpr9A-r",
        "outputId": "d13ea7ed-d174-4054-f0f0-1ab263b0d648"
      },
      "outputs": [
        {
          "output_type": "stream",
          "name": "stdout",
          "text": [
            "Diondre is 23 years_old\n",
            "<class 'int'> <class 'str'>\n",
            "23\n"
          ]
        }
      ],
      "source": [
        "my_age=23\n",
        "given_name= \"Diondre\"\n",
        "family_name= \"Hicks\"\n",
        "print(given_name, \"is\", my_age, \"years_old\")\n",
        "type(family_name)\n",
        "type(given_name)\n",
        "print(type(my_age), type(given_name)\n",
        ")\n",
        "my_agestr=str(my_age)\n",
        "###Indexing\n",
        "len(family_name)\n",
        "len(given_name)\n",
        "print(my_age)\n",
        "my_age/4\n",
        "float(my_age)\n",
        "full_name_age= given_name + \"Keyshawn \" +family_name+\"is my full name and i am\"+ str(my_age)+ \"years old.\"\n"
      ]
    },
    {
      "cell_type": "code",
      "source": [
        "12*6"
      ],
      "metadata": {
        "colab": {
          "base_uri": "https://localhost:8080/"
        },
        "id": "59NdxUWcAUbv",
        "outputId": "f42b4ebc-bf20-41b3-d786-dc9aca5787a0"
      },
      "execution_count": null,
      "outputs": [
        {
          "output_type": "execute_result",
          "data": {
            "text/plain": [
              "72"
            ]
          },
          "metadata": {},
          "execution_count": 29
        }
      ]
    },
    {
      "cell_type": "code",
      "source": [
        "#built in summary\n",
        "nums=(1,2,3,4,5)\n",
        "max(nums)\n",
        "pi=3.1425\n",
        "print(pi)\n",
        "round(pi,ndigits:2)"
      ],
      "metadata": {
        "colab": {
          "base_uri": "https://localhost:8080/",
          "height": 153
        },
        "id": "Rq2X2hVOE7cG",
        "outputId": "4663e05d-2e1e-478a-ae7b-db5cfcbae48d"
      },
      "execution_count": null,
      "outputs": [
        {
          "output_type": "error",
          "ename": "SyntaxError",
          "evalue": "ignored",
          "traceback": [
            "\u001b[0;36m  File \u001b[0;32m\"<ipython-input-35-9bbbda896d41>\"\u001b[0;36m, line \u001b[0;32m6\u001b[0m\n\u001b[0;31m    round(pi,ndigits:2)\u001b[0m\n\u001b[0m                    ^\u001b[0m\n\u001b[0;31mSyntaxError\u001b[0m\u001b[0;31m:\u001b[0m invalid syntax\n"
          ]
        }
      ]
    }
  ]
}